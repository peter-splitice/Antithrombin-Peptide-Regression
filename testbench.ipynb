{
 "cells": [
  {
   "cell_type": "code",
   "execution_count": 1,
   "metadata": {},
   "outputs": [],
   "source": [
    "from regression_only import *\n",
    "\n",
    "reg_models = load_regression_models()"
   ]
  },
  {
   "cell_type": "code",
   "execution_count": 4,
   "metadata": {},
   "outputs": [],
   "source": [
    "for name_reg, params, model in reg_models:\n",
    "    df, ki_range = import_data()\n",
    "\n",
    "    x = df[df.columns[1:573]]\n",
    "    y = df['KI (nM) rescaled']\n",
    "\n",
    "    scaler = MinMaxScaler()\n",
    "    scaler.fit(x)\n",
    "    x = pd.DataFrame(scaler.transform(x), columns=df.columns[1:573])\n",
    "\n",
    "    model = hyperparameter_optimizer(x, y, params, model)"
   ]
  },
  {
   "cell_type": "code",
   "execution_count": 8,
   "metadata": {},
   "outputs": [
    {
     "name": "stdout",
     "output_type": "stream",
     "text": [
      "test\n",
      "test\n",
      "test\n",
      "test\n",
      "test\n",
      "<enumerate object at 0x000002A78516B440>\n"
     ]
    }
   ],
   "source": [
    "kf = KFold(n_splits=FOLDS, random_state=RAND, shuffle=True)\n",
    "fold = 0\n",
    "\n",
    "for train_index, test_index in kf.split(x,y):\n",
    "    print('test')\n"
   ]
  }
 ],
 "metadata": {
  "kernelspec": {
   "display_name": "Python 3.8.8 ('antithrombin')",
   "language": "python",
   "name": "python3"
  },
  "language_info": {
   "codemirror_mode": {
    "name": "ipython",
    "version": 3
   },
   "file_extension": ".py",
   "mimetype": "text/x-python",
   "name": "python",
   "nbconvert_exporter": "python",
   "pygments_lexer": "ipython3",
   "version": "3.8.8"
  },
  "orig_nbformat": 4,
  "vscode": {
   "interpreter": {
    "hash": "4e80bae16222c7bbbaf59498086a658280d426110f2738491d72ed8ab66400de"
   }
  }
 },
 "nbformat": 4,
 "nbformat_minor": 2
}
