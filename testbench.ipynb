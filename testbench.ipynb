{
 "cells": [
  {
   "cell_type": "code",
   "execution_count": null,
   "metadata": {},
   "outputs": [],
   "source": [
    "import numpy as np\n",
    "import matplotlib.pyplot as plt\n",
    "\n",
    "# create some sample data\n",
    "x = np.linspace(-5, 5, 50)\n",
    "y = np.linspace(-5, 5, 50)\n",
    "X, Y = np.meshgrid(x, y)\n",
    "Z = np.sin(np.sqrt(X**2 + Y**2))\n",
    "\n",
    "# create a 3D plot\n",
    "fig = plt.figure()\n",
    "ax = fig.add_subplot(111, projection='3d')\n",
    "ax.plot_surface(X, Y, Z)\n",
    "\n",
    "# set labels and title\n",
    "ax.set_xlabel('X')\n",
    "ax.set_ylabel('Y')\n",
    "ax.set_zlabel('Z')\n",
    "ax.set_title('3D Plot')\n",
    "\n",
    "plt.show()"
   ]
  },
  {
   "cell_type": "code",
   "execution_count": 17,
   "metadata": {},
   "outputs": [],
   "source": [
    "import os\n",
    "import pandas as pd\n",
    "\n",
    "from common_dependencies import *\n",
    "df_param_combos = pd.read_csv(PATH + '/Regression Only Results/GridSearch Data.csv')"
   ]
  },
  {
   "cell_type": "code",
   "execution_count": 19,
   "metadata": {},
   "outputs": [],
   "source": [
    "peptide_sequences = pd.read_excel(PATH + '/Positive KI.xlsx')\n",
    "peptide_sequences = peptide_sequences[['Seq', 'KI (nM)']]\n",
    "peptide_sequences.rename(columns={'Seq':'Name'}, inplace=True)\n"
   ]
  },
  {
   "cell_type": "code",
   "execution_count": 20,
   "metadata": {},
   "outputs": [],
   "source": [
    "df = pd.DataFrame()\n",
    "for i in range(len(peptide_sequences)):\n",
    "    df = pd.concat([df, inferenceSingleSeqence(peptide_sequences.iloc[i][0])])"
   ]
  },
  {
   "cell_type": "code",
   "execution_count": null,
   "metadata": {},
   "outputs": [],
   "source": [
    "df_param_combos['param_C'][df_param_combos['param_gamma'] == 'auto']"
   ]
  },
  {
   "cell_type": "code",
   "execution_count": null,
   "metadata": {},
   "outputs": [],
   "source": [
    "gammas = ('auto', 'scale')\n",
    "\n",
    "# Creating pltos for both of the 'auto' and 'scale' gammas\n",
    "for gamma in gammas:\n",
    "    # x y and z\n",
    "    x_grid = df_param_combos['param_C'][df_param_combos['param_gamma'] == gamma]\n",
    "    y_grid = df_param_combos['param_epsilon'][df_param_combos['param_gamma'] == gamma]\n",
    "    z_grid = df_param_combos['mean_test_score'][df_param_combos['param_gamma'] == gamma]*(-1)\n",
    "\n",
    "    # Create the figure\n",
    "    fig = plt.figure()\n",
    "    ax = fig.add_subplot(111, projection='3d')\n",
    "    ax.scatter(x_grid, y_grid, z_grid)\n",
    "    ax.set_title(\"Dot plot of RMSE given 'C' and 'epsilon' values for '%s' gamma Parameter\" %(gamma))\n",
    "    ax.set_xlabel('C')\n",
    "    ax.set_ylabel('epsilon')\n",
    "    ax.set_zlabel('Test RMSE')\n",
    "\n",
    "    fig.savefig(PATH + '/Figures/RMSE plot for gamma %s.png' %(gamma))"
   ]
  },
  {
   "cell_type": "code",
   "execution_count": null,
   "metadata": {},
   "outputs": [],
   "source": [
    "gammas = ('auto', 'scale')\n",
    "for gamma in gammas:\n",
    "    print(gamma)\n"
   ]
  },
  {
   "cell_type": "code",
   "execution_count": null,
   "metadata": {},
   "outputs": [],
   "source": [
    "fig.clf()"
   ]
  },
  {
   "cell_type": "code",
   "execution_count": null,
   "metadata": {},
   "outputs": [],
   "source": [
    "fig"
   ]
  }
 ],
 "metadata": {
  "kernelspec": {
   "display_name": "Python 3.8.8 ('antithrombin')",
   "language": "python",
   "name": "python3"
  },
  "language_info": {
   "codemirror_mode": {
    "name": "ipython",
    "version": 3
   },
   "file_extension": ".py",
   "mimetype": "text/x-python",
   "name": "python",
   "nbconvert_exporter": "python",
   "pygments_lexer": "ipython3",
   "version": "3.8.8"
  },
  "orig_nbformat": 4,
  "vscode": {
   "interpreter": {
    "hash": "4e80bae16222c7bbbaf59498086a658280d426110f2738491d72ed8ab66400de"
   }
  }
 },
 "nbformat": 4,
 "nbformat_minor": 2
}
